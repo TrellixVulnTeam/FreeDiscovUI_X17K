{
  "nbformat_minor": 0, 
  "nbformat": 4, 
  "cells": [
    {
      "execution_count": null, 
      "cell_type": "code", 
      "source": [
        "%matplotlib inline"
      ], 
      "outputs": [], 
      "metadata": {
        "collapsed": false
      }
    }, 
    {
      "source": [
        "\nCategorization Example [REST API]\n---------------------------------\n\nAn example to illustrate binary categorizaiton with FreeDiscovery\n\n"
      ], 
      "cell_type": "markdown", 
      "metadata": {}
    }, 
    {
      "execution_count": null, 
      "cell_type": "code", 
      "source": [
        "from __future__ import print_function\n\nfrom time import time, sleep\nimport os.path\nfrom multiprocessing import Process\nimport requests\nimport pandas as pd\n\npd.options.display.float_format = '{:,.3f}'.format\npd.options.display.expand_frame_repr = False\n\ndataset_name = \"treclegal09_2k_subset\"     # see list of available datasets\n\nBASE_URL = \"http://localhost:5001/api/v0\"  # FreeDiscovery server URL\n\nif __name__ == '__main__':\n\n    print(\" 0. Load the example dataset\")\n    url = BASE_URL + '/example-dataset/{}'.format(dataset_name)\n    print(\" GET\", url)\n    input_ds = requests.get(url, json={'train_set_fields': ['document_id']}).json()\n\n\n    data_dir = input_ds['metadata']['data_dir']\n    dataset_definition = [{'document_id': row['document_id'],\n                           'file_path': os.path.join(data_dir, row['file_path'])} \\\n                                   for row in input_ds['dataset']]\n    # create a custom dataset definition for ingestion\n\n    # 1. Feature extraction\n\n    print(\"\\n1.a Load dataset and initalize feature extraction\")\n    url = BASE_URL + '/feature-extraction'\n    print(\" POST\", url)\n    res = requests.post(url, json={'dataset_definition': dataset_definition,\n                                   'use_hashing': True}).json()\n\n    dsid = res['id']\n    print(\"   => received {}\".format(list(res.keys())))\n    print(\"   => dsid = {}\".format(dsid))\n\n    print(\"\\n1.b Start feature extraction (in the background)\")\n\n    # Make this call in a background process (there should be a better way of doing it)\n    url = BASE_URL+'/feature-extraction/{}'.format(dsid)\n    print(\" POST\", url)\n    p = Process(target=requests.post, args=(url,))\n    p.start()\n    sleep(5.0) # wait a bit for the processing to start\n\n    print('\\n1.c Monitor feature extraction progress')\n    url = BASE_URL+'/feature-extraction/{}'.format(dsid)\n    print(\" GET\", url)\n\n    t0 = time()\n    while True:\n        res = requests.get(url)\n        if res.status_code == 520:\n            p.terminate()\n            raise ValueError('Processing did not start')\n        elif res.status_code == 200:\n            break # processing finished\n        data = res.json()\n        print('     ... {}k/{}k files processed in {:.1f} min'.format(\n                    data['n_samples_processed']//1000, data['n_samples']//1000, (time() - t0)/60.))\n        sleep(15.0)\n\n    p.terminate()  # just in case, should not be necessary\n\n\n    print(\"\\n1.d. check the parameters of the extracted features\")\n    url = BASE_URL + '/feature-extraction/{}'.format(dsid)\n    print(' GET', url)\n    res = requests.get(url).json()\n\n    print('\\n'.join(['     - {}: {}'.format(key, val) for key, val in res.items() \\\n                                                      if \"filenames\" not in key]))\n    # this step is not necessary anymore\n    #method = BASE_URL + \"/feature-extraction/{}/id-mapping/flat\".format(dsid)\n    #res = requests.get(method, data={'document_id': seed_document_id})\n    #seed_internal_id = res.json()['internal_id']\n\n\n    # 3. Document categorization with LSI (used for Nearest Neighbors method)\n\n    print(\"\\n2. Calculate LSI\")\n\n    url = BASE_URL + '/lsi/'\n    print(\"POST\", url)\n\n    n_components = 100\n    res = requests.post(url,\n                        json={'n_components': n_components,\n                              'parent_id': dsid\n                              }).json()\n\n    lsi_id = res['id']\n    print('  => LSI model id = {}'.format(lsi_id))\n    print('  => SVD decomposition with {} dimensions explaining {:.2f} % variabilty of the data'.format(\n                            n_components, res['explained_variance']*100))\n\n\n    # 3. Document categorization\n\n    print(\"\\n3.a. Train the categorization model\")\n    print(\"   {} positive, {} negative files\".format(pd.DataFrame(input_ds['training_set']).groupby('category'), 0))\n\n    for method, use_lsi in [('LinearSVC', False),\n                            ('NearestNeighbor', True)]:\n\n        print('='*80, '\\n', ' '*10,\n              method, \" + LSI\" if use_lsi else ' ', '\\n', '='*80)\n        if use_lsi:\n            # Categorization with the previously created LSI model\n            parent_id = lsi_id\n        else:\n            # Categorization with original text features\n            parent_id = dsid\n\n        url = BASE_URL + '/categorization/'\n        print(\" POST\", url)\n        print(' Training...')\n\n        res = requests.post(url,\n                            json={'parent_id': parent_id,\n                                  'data': input_ds['training_set'],\n                                  'method': method,  # one of \"LinearSVC\", \"LogisticRegression\", 'xgboost'\n                                  }).json()\n\n        mid = res['id']\n        print(\"     => model id = {}\".format(mid))\n        print('    => Training scores: MAP = {average_precision:.3f}, ROC-AUC = {roc_auc:.3f}, F1= {f1:.3f}'.format(**res))\n\n        print(\"\\n3.b. Check the parameters used in the categorization model\")\n        url = BASE_URL + '/categorization/{}'.format(mid)\n        print(\" GET\", url)\n        res = requests.get(url).json()\n\n        print('\\n'.join(['     - {}: {}'.format(key, val) for key, val in res.items() \\\n                                                          if key not in ['index', 'category']]))\n\n        print(\"\\n3.c Categorize the complete dataset with this model\")\n        url = BASE_URL + '/categorization/{}/predict'.format(mid)\n        print(\" GET\", url)\n        res = requests.get(url).json()\n\n        if method == \"NearestNeighbor\":\n            data = res['data']\n        else:\n            data = res['data']\n\n        df = pd.DataFrame(data).set_index('internal_id')\n        #if method == \"NearestNeighbor\":\n        #    df = df[['document_id', 'nn_negative__distance', 'nn_negative__document_id',\n        #          'nn_positive__distance', 'nn_positive__document_id', 'score']]\n\n        print(df)\n\n        #print(\"\\n3.d Compute the categorization scores\")\n        #url = BASE_URL + '/metrics/categorization'\n        #print(\" GET\", url)\n        #res = requests.post(url, json={'y_true': ground_truth_y,\n        #                              'y_pred': df.score.values.tolist(),\n        #                             } ).json()\n\n\n        #print('    => Test scores: MAP = {average_precision:.3f}, ROC-AUC = {roc_auc:.3f}'.format(**res))\n\n    # 4. Cleaning\n    print(\"\\n5.a Delete the extracted features (and LSI decomposition)\")\n    url = BASE_URL + '/feature-extraction/{}'.format(dsid)\n    print(\" DELETE\", url)\n    requests.delete(url)"
      ], 
      "outputs": [], 
      "metadata": {
        "collapsed": false
      }
    }
  ], 
  "metadata": {
    "kernelspec": {
      "display_name": "Python 2", 
      "name": "python2", 
      "language": "python"
    }, 
    "language_info": {
      "mimetype": "text/x-python", 
      "nbconvert_exporter": "python", 
      "name": "python", 
      "file_extension": ".py", 
      "version": "2.7.11", 
      "pygments_lexer": "ipython2", 
      "codemirror_mode": {
        "version": 2, 
        "name": "ipython"
      }
    }
  }
}