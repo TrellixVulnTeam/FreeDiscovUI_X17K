{
 "cells": [
  {
   "cell_type": "code",
   "execution_count": 1,
   "metadata": {
    "collapsed": false
   },
   "outputs": [],
   "source": [
    "%matplotlib inline"
   ]
  },
  {
   "cell_type": "markdown",
   "metadata": {},
   "source": [
    "\n",
    "Clustering Example [Python API]\n",
    "-------------------------------\n",
    "\n",
    "An example of clustering using the Python API\n",
    "\n"
   ]
  },
  {
   "cell_type": "code",
   "execution_count": 2,
   "metadata": {
    "collapsed": false
   },
   "outputs": [
    {
     "name": "stdout",
     "output_type": "stream",
     "text": [
      "0. Load Dataset\n",
      "\n",
      "Warning: downloading dataset treclegal09_2k_subset (2.8 MB) !\n",
      "\n",
      "File ../treclegal09_2k_subset.tar.gz downloaded!\n",
      "Archive extracted!\n",
      "\n",
      "1. Feature extraction (non hashed)\n",
      "\n",
      "\n",
      "2. Document Clustering (LSI + K-Means)\n",
      "\n",
      "    .. computed in 2.9s\n",
      "   N_documents                                      cluster_names\n",
      "9          520           [alias, enron, norm, ect, calo, changed]\n",
      "2          405  [ect, hou, enron, group, recipients, administr...\n",
      "3          330  [teneo, recipients, group, administrative, tes...\n",
      "0          329  [enron, energy, company, trade, services, master]\n",
      "8          298  [recipients, group, administrative, test, ect,...\n",
      "1          160             [alias, enron, ect, norm, test, group]\n",
      "5          129  [shall, party, agreement, transaction, period,...\n",
      "7          121               [alias, enron, norm, ect, ena, corp]\n",
      "6          113  [enron_development, ect, hou, enron, shackleto...\n",
      "4           61    [rewrite, server, address, smtp, mail, virtual]\n",
      "\n",
      "3. Document Clustering (LSI + Ward Hierarchical Clustering)\n",
      "\n",
      "    .. computed in 3.9s\n",
      "   N_documents                                      cluster_names\n",
      "0          545           [alias, enron, norm, ect, calo, changed]\n",
      "1          469       [enron, ect, energy, company, trading, norm]\n",
      "2          433  [ect, hou, enron, group, recipients, administr...\n",
      "7          321  [teneo, recipients, group, administrative, tes...\n",
      "6          238  [recipients, group, administrative, test, ect,...\n",
      "8          135       [alias, ect, enron, test, group, recipients]\n",
      "9          119  [enron_development, ect, hou, enron, group, sh...\n",
      "3          101  [shall, party, agreement, transaction, confirm...\n",
      "5           64    [rewrite, server, address, smtp, mail, virtual]\n",
      "4           41    [berkeley, haas, edu, inflation, alias, growth]\n"
     ]
    }
   ],
   "source": [
    "import pandas as pd\n",
    "from freediscovery.text import FeatureVectorizer\n",
    "from freediscovery.cluster import Clustering\n",
    "from freediscovery.utils import _silent\n",
    "from freediscovery.datasets import load_dataset\n",
    "from time import time\n",
    "\n",
    "pd.options.display.float_format = '{:,.3f}'.format\n",
    "\n",
    "dataset_name = \"treclegal09_2k_subset\"\n",
    "cache_dir = '..'\n",
    "\n",
    "\n",
    "print(\"0. Load Dataset\")\n",
    "\n",
    "ds = load_dataset(dataset_name, cache_dir=cache_dir)\n",
    "\n",
    "\n",
    "print(\"\\n1. Feature extraction (non hashed)\\n\")\n",
    "\n",
    "n_features = 30000\n",
    "fe = FeatureVectorizer(cache_dir=cache_dir)\n",
    "uuid = fe.preprocess(ds['data_dir'],\n",
    "                     n_features=n_features, use_hashing=False,\n",
    "                     use_idf=True, stop_words='english')\n",
    "uuid, filenames = fe.transform()\n",
    "\n",
    "\n",
    "print(\"\\n2. Document Clustering (LSI + K-Means)\\n\")\n",
    "\n",
    "cat = Clustering(cache_dir=cache_dir, dsid=uuid)\n",
    "\n",
    "n_clusters = 10\n",
    "n_top_words = 6\n",
    "lsi_components = 50\n",
    "\n",
    "\n",
    "def repr_clustering(_labels, _terms):\n",
    "    out = []\n",
    "    for ridx, row in enumerate(_terms):\n",
    "        out.append({'cluster_names': row, 'N_documents': (_labels == ridx).sum()})\n",
    "    out = pd.DataFrame(out).sort_values('N_documents', ascending=False)\n",
    "    return out\n",
    "\n",
    "\n",
    "t0 = time()\n",
    "with _silent('stderr'): # ignore some deprecation warnings\n",
    "    labels, tree  = cat.k_means(n_clusters, lsi_components=lsi_components)\n",
    "    terms = cat.compute_labels(n_top_words=n_top_words)\n",
    "t1 = time()\n",
    "\n",
    "print('    .. computed in {:.1f}s'.format(t1 - t0))\n",
    "print(repr_clustering(labels, terms))\n",
    "\n",
    "\n",
    "print('\\n3. Document Clustering (LSI + Ward Hierarchical Clustering)\\n')\n",
    "\n",
    "t0 = time()\n",
    "with _silent('stderr'): # ignore some deprecation warnings\n",
    "    labels, tree = cat.ward_hc(n_clusters,\n",
    "                               lsi_components=lsi_components,\n",
    "                               n_neighbors=5   # this is the connectivity constraint\n",
    "                               )\n",
    "    terms = cat.compute_labels(n_top_words=n_top_words)\n",
    "t1 = time()\n",
    "\n",
    "print('    .. computed in {:.1f}s'.format(t1 - t0))\n",
    "print(repr_clustering(labels, terms))"
   ]
  },
  {
   "cell_type": "code",
   "execution_count": null,
   "metadata": {
    "collapsed": true
   },
   "outputs": [],
   "source": []
  }
 ],
 "metadata": {
  "anaconda-cloud": {},
  "kernelspec": {
   "display_name": "Python [conda env:freediscovery-env]",
   "language": "python",
   "name": "conda-env-freediscovery-env-py"
  },
  "language_info": {
   "codemirror_mode": {
    "name": "ipython",
    "version": 3
   },
   "file_extension": ".py",
   "mimetype": "text/x-python",
   "name": "python",
   "nbconvert_exporter": "python",
   "pygments_lexer": "ipython3",
   "version": "3.5.2"
  }
 },
 "nbformat": 4,
 "nbformat_minor": 0
}
