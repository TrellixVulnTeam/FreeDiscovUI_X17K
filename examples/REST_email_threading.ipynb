{
  "nbformat_minor": 0, 
  "nbformat": 4, 
  "cells": [
    {
      "execution_count": null, 
      "cell_type": "code", 
      "source": [
        "%matplotlib inline"
      ], 
      "outputs": [], 
      "metadata": {
        "collapsed": false
      }
    }, 
    {
      "source": [
        "\nEmail threading Example [REST API]\n--------------------------------------\n\nThread a email collection\n\n"
      ], 
      "cell_type": "markdown", 
      "metadata": {}
    }, 
    {
      "execution_count": null, 
      "cell_type": "code", 
      "source": [
        "from __future__ import print_function\n\nfrom time import time\nimport sys\nimport platform\nfrom itertools import groupby\n\nimport numpy as np\nimport pandas as pd\nimport requests\nimport sys\nimport os\n\npd.options.display.float_format = '{:,.3f}'.format\n\n\nif platform.system() == 'Windows' and sys.version_info > (3, 0):\n   print('This example currently fails on Windows with PY3 (issue #')\n   sys.exit()\n\n\ndataset_name = \"fedora_ml_3k_subset\"     # see list of available datasets\n\nBASE_URL = \"http://localhost:5001/api/v0\"  # FreeDiscovery server URL\n\nprint(\" 0. Load the test dataset\")\nurl = BASE_URL + '/example-dataset/{}'.format(dataset_name)\nprint(\" GET\", url)\nres = requests.get(url)\nres = res.json()\n\n# To use a custom dataset, simply specify the following variables\ndata_dir = res['metadata']['data_dir']\n\n\nprint(\"\\n1.a Parse emails\")\nurl = BASE_URL + '/email-parser'\nprint(\" POST\", url)\nres = requests.post(url, json={'data_dir': data_dir })\n\ndsid = res.json()['id']\nprint(\"   => received {}\".format(list(res.json().keys())))\nprint(\"   => dsid = {}\".format(dsid))\n\n\n\nprint(\"\\n1.b. check the parameters of the emails\")\nurl = BASE_URL + '/email-parser/{}'.format(dsid)\nprint(' GET', url)\nres = requests.get(url)\n\ndata = res.json()\nprint('\\n'.join(['     - {}: {}'.format(key, val) for key, val in data.items() \\\n                                                        if key != 'filenames']))\n\nprint(\"\\n2. Email threading\")\n\nurl = BASE_URL + '/email-threading/'\nprint(\" POST\", url)\nt0 = time()\nres = requests.post(url,\n        json={'parent_id': dsid }).json()\n\nmid  = res['id']\nprint(\"     => model id = {}\".format(mid))\n\n\ndef print_thread(container, depth=0):\n    print(''.join(['> ' * depth,  container['subject'],\n                   ' (id={})'.format(container['id'])]))\n\n    for child in container['children']:\n        print_thread(child, depth + 1)\n\n\nprint(\"\\nThreading examples\\n\"\n      \"cf. https://www.redhat.com/archives/rhl-devel-list/2008-October/thread.htlm \\n\"\n      \"for ground truth data (mailman has a maximum threading depth of 3, unlike FreeDiscovery)\"\n       )\nfor idx in [-1, -2, -3, -4, -5]: # get latest threads\n    print(' ')\n    print_thread(res['data'][idx])"
      ], 
      "outputs": [], 
      "metadata": {
        "collapsed": false
      }
    }
  ], 
  "metadata": {
    "kernelspec": {
      "display_name": "Python 2", 
      "name": "python2", 
      "language": "python"
    }, 
    "language_info": {
      "mimetype": "text/x-python", 
      "nbconvert_exporter": "python", 
      "name": "python", 
      "file_extension": ".py", 
      "version": "2.7.11", 
      "pygments_lexer": "ipython2", 
      "codemirror_mode": {
        "version": 2, 
        "name": "ipython"
      }
    }
  }
}