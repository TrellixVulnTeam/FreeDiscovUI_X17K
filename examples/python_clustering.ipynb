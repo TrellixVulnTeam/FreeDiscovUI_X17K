{
  "nbformat_minor": 0, 
  "nbformat": 4, 
  "cells": [
    {
      "execution_count": null, 
      "cell_type": "code", 
      "source": [
        "%matplotlib inline"
      ], 
      "outputs": [], 
      "metadata": {
        "collapsed": false
      }
    }, 
    {
      "source": [
        "\nClustering Example [Python API]\n-------------------------------\n\nAn example of clustering using the Python API\n\n"
      ], 
      "cell_type": "markdown", 
      "metadata": {}
    }, 
    {
      "execution_count": null, 
      "cell_type": "code", 
      "source": [
        "import pandas as pd\nfrom freediscovery.text import FeatureVectorizer\nfrom freediscovery.cluster import _ClusteringWrapper\nfrom freediscovery.lsi import _LSIWrapper\nfrom freediscovery.datasets import load_dataset\nfrom freediscovery.tests.run_suite import check_cache\nfrom time import time\n\npd.options.display.float_format = '{:,.3f}'.format\n\ndataset_name = \"treclegal09_2k_subset\"\ncache_dir = check_cache()\n\n\nprint(\"0. Load Dataset\")\n\nmd, training_set, dataset = load_dataset(dataset_name, cache_dir=cache_dir)\n\n\nprint(\"\\n1. Feature extraction (non hashed)\\n\")\n\nn_features = 30000\nfe = FeatureVectorizer(cache_dir=cache_dir)\nuuid = fe.preprocess(md['data_dir'],\n                     n_features=n_features, use_hashing=False,\n                     use_idf=True, stop_words='english')\nuuid, filenames = fe.transform()\n\n\n\n\nn_clusters = 10\nn_top_words = 6\nlsi_components = 50\n\n\ndef repr_clustering(_labels, _terms):\n    out = []\n    for ridx, row in enumerate(_terms):\n        out.append({'cluster_names': row, 'N_documents': (_labels == ridx).sum()})\n    out = pd.DataFrame(out).sort_values('N_documents', ascending=False)\n    return out\n\nprint(\"\\n2. Computing LSI\\n\")\nlsi = _LSIWrapper(cache_dir=cache_dir, parent_id=uuid)\nlsi_res, exp_var = lsi.fit_transform(n_components=lsi_components)  # TODO unused variables\n\n\n\nprint(\"\\n3. Document Clustering (LSI + K-Means)\\n\")\n\ncat = _ClusteringWrapper(cache_dir=cache_dir, parent_id=lsi.mid)\n\nt0 = time()\nlabels, tree  = cat.k_means(n_clusters)\nterms = cat.compute_labels(n_top_words=n_top_words)\nt1 = time()\n\nprint('    .. computed in {:.1f}s'.format(t1 - t0))\nprint(repr_clustering(labels, terms))\n\n\nprint('\\n4. Document Clustering (LSI + Ward Hierarchical Clustering)\\n')\n\n\nt0 = time()\nlabels, tree = cat.ward_hc(n_clusters,\n                           n_neighbors=5   # this is the connectivity constraint\n                           )\nterms = cat.compute_labels(n_top_words=n_top_words)\nt1 = time()\n\nprint('    .. computed in {:.1f}s'.format(t1 - t0))\nprint(repr_clustering(labels, terms))"
      ], 
      "outputs": [], 
      "metadata": {
        "collapsed": false
      }
    }
  ], 
  "metadata": {
    "kernelspec": {
      "display_name": "Python 2", 
      "name": "python2", 
      "language": "python"
    }, 
    "language_info": {
      "mimetype": "text/x-python", 
      "nbconvert_exporter": "python", 
      "name": "python", 
      "file_extension": ".py", 
      "version": "2.7.11", 
      "pygments_lexer": "ipython2", 
      "codemirror_mode": {
        "version": 2, 
        "name": "ipython"
      }
    }
  }
}